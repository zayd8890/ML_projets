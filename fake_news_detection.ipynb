{
  "nbformat": 4,
  "nbformat_minor": 0,
  "metadata": {
    "colab": {
      "provenance": []
    },
    "kernelspec": {
      "name": "python3",
      "display_name": "Python 3"
    },
    "language_info": {
      "name": "python"
    }
  },
  "cells": [
    {
      "cell_type": "code",
      "execution_count": 1,
      "metadata": {
        "id": "HF4ehn1Myrxu"
      },
      "outputs": [],
      "source": [
        "import numpy as np\n",
        "import pandas as pd"
      ]
    },
    {
      "cell_type": "markdown",
      "source": [
        "**Dataset source** = https://www.kaggle.com/datasets/algord/fake-news\n"
      ],
      "metadata": {
        "id": "8QVLNbQoNuQz"
      }
    },
    {
      "cell_type": "code",
      "source": [
        "df=pd.read_csv('/content/FakeNewsNet.csv')"
      ],
      "metadata": {
        "id": "EHr-c1syzVz_"
      },
      "execution_count": 3,
      "outputs": []
    },
    {
      "cell_type": "code",
      "source": [
        "df.head()"
      ],
      "metadata": {
        "colab": {
          "base_uri": "https://localhost:8080/",
          "height": 206
        },
        "id": "X0gNQyQh0YSg",
        "outputId": "7a1969cb-5238-418a-f48b-4075e3e892c0"
      },
      "execution_count": 4,
      "outputs": [
        {
          "output_type": "execute_result",
          "data": {
            "text/plain": [
              "                                               title  \\\n",
              "0  Kandi Burruss Explodes Over Rape Accusation on...   \n",
              "1  People's Choice Awards 2018: The best red carp...   \n",
              "2  Sophia Bush Sends Sweet Birthday Message to 'O...   \n",
              "3  Colombian singer Maluma sparks rumours of inap...   \n",
              "4  Gossip Girl 10 Years Later: How Upper East Sid...   \n",
              "\n",
              "                                            news_url        source_domain  \\\n",
              "0  http://toofab.com/2017/05/08/real-housewives-a...           toofab.com   \n",
              "1  https://www.today.com/style/see-people-s-choic...        www.today.com   \n",
              "2  https://www.etonline.com/news/220806_sophia_bu...     www.etonline.com   \n",
              "3  https://www.dailymail.co.uk/news/article-33655...  www.dailymail.co.uk   \n",
              "4  https://www.zerchoo.com/entertainment/gossip-g...      www.zerchoo.com   \n",
              "\n",
              "   tweet_num  real  \n",
              "0         42     1  \n",
              "1          0     1  \n",
              "2         63     1  \n",
              "3         20     1  \n",
              "4         38     1  "
            ],
            "text/html": [
              "\n",
              "  <div id=\"df-1805a474-ba66-4a2d-ade0-513d8abdba42\" class=\"colab-df-container\">\n",
              "    <div>\n",
              "<style scoped>\n",
              "    .dataframe tbody tr th:only-of-type {\n",
              "        vertical-align: middle;\n",
              "    }\n",
              "\n",
              "    .dataframe tbody tr th {\n",
              "        vertical-align: top;\n",
              "    }\n",
              "\n",
              "    .dataframe thead th {\n",
              "        text-align: right;\n",
              "    }\n",
              "</style>\n",
              "<table border=\"1\" class=\"dataframe\">\n",
              "  <thead>\n",
              "    <tr style=\"text-align: right;\">\n",
              "      <th></th>\n",
              "      <th>title</th>\n",
              "      <th>news_url</th>\n",
              "      <th>source_domain</th>\n",
              "      <th>tweet_num</th>\n",
              "      <th>real</th>\n",
              "    </tr>\n",
              "  </thead>\n",
              "  <tbody>\n",
              "    <tr>\n",
              "      <th>0</th>\n",
              "      <td>Kandi Burruss Explodes Over Rape Accusation on...</td>\n",
              "      <td>http://toofab.com/2017/05/08/real-housewives-a...</td>\n",
              "      <td>toofab.com</td>\n",
              "      <td>42</td>\n",
              "      <td>1</td>\n",
              "    </tr>\n",
              "    <tr>\n",
              "      <th>1</th>\n",
              "      <td>People's Choice Awards 2018: The best red carp...</td>\n",
              "      <td>https://www.today.com/style/see-people-s-choic...</td>\n",
              "      <td>www.today.com</td>\n",
              "      <td>0</td>\n",
              "      <td>1</td>\n",
              "    </tr>\n",
              "    <tr>\n",
              "      <th>2</th>\n",
              "      <td>Sophia Bush Sends Sweet Birthday Message to 'O...</td>\n",
              "      <td>https://www.etonline.com/news/220806_sophia_bu...</td>\n",
              "      <td>www.etonline.com</td>\n",
              "      <td>63</td>\n",
              "      <td>1</td>\n",
              "    </tr>\n",
              "    <tr>\n",
              "      <th>3</th>\n",
              "      <td>Colombian singer Maluma sparks rumours of inap...</td>\n",
              "      <td>https://www.dailymail.co.uk/news/article-33655...</td>\n",
              "      <td>www.dailymail.co.uk</td>\n",
              "      <td>20</td>\n",
              "      <td>1</td>\n",
              "    </tr>\n",
              "    <tr>\n",
              "      <th>4</th>\n",
              "      <td>Gossip Girl 10 Years Later: How Upper East Sid...</td>\n",
              "      <td>https://www.zerchoo.com/entertainment/gossip-g...</td>\n",
              "      <td>www.zerchoo.com</td>\n",
              "      <td>38</td>\n",
              "      <td>1</td>\n",
              "    </tr>\n",
              "  </tbody>\n",
              "</table>\n",
              "</div>\n",
              "    <div class=\"colab-df-buttons\">\n",
              "\n",
              "  <div class=\"colab-df-container\">\n",
              "    <button class=\"colab-df-convert\" onclick=\"convertToInteractive('df-1805a474-ba66-4a2d-ade0-513d8abdba42')\"\n",
              "            title=\"Convert this dataframe to an interactive table.\"\n",
              "            style=\"display:none;\">\n",
              "\n",
              "  <svg xmlns=\"http://www.w3.org/2000/svg\" height=\"24px\" viewBox=\"0 -960 960 960\">\n",
              "    <path d=\"M120-120v-720h720v720H120Zm60-500h600v-160H180v160Zm220 220h160v-160H400v160Zm0 220h160v-160H400v160ZM180-400h160v-160H180v160Zm440 0h160v-160H620v160ZM180-180h160v-160H180v160Zm440 0h160v-160H620v160Z\"/>\n",
              "  </svg>\n",
              "    </button>\n",
              "\n",
              "  <style>\n",
              "    .colab-df-container {\n",
              "      display:flex;\n",
              "      gap: 12px;\n",
              "    }\n",
              "\n",
              "    .colab-df-convert {\n",
              "      background-color: #E8F0FE;\n",
              "      border: none;\n",
              "      border-radius: 50%;\n",
              "      cursor: pointer;\n",
              "      display: none;\n",
              "      fill: #1967D2;\n",
              "      height: 32px;\n",
              "      padding: 0 0 0 0;\n",
              "      width: 32px;\n",
              "    }\n",
              "\n",
              "    .colab-df-convert:hover {\n",
              "      background-color: #E2EBFA;\n",
              "      box-shadow: 0px 1px 2px rgba(60, 64, 67, 0.3), 0px 1px 3px 1px rgba(60, 64, 67, 0.15);\n",
              "      fill: #174EA6;\n",
              "    }\n",
              "\n",
              "    .colab-df-buttons div {\n",
              "      margin-bottom: 4px;\n",
              "    }\n",
              "\n",
              "    [theme=dark] .colab-df-convert {\n",
              "      background-color: #3B4455;\n",
              "      fill: #D2E3FC;\n",
              "    }\n",
              "\n",
              "    [theme=dark] .colab-df-convert:hover {\n",
              "      background-color: #434B5C;\n",
              "      box-shadow: 0px 1px 3px 1px rgba(0, 0, 0, 0.15);\n",
              "      filter: drop-shadow(0px 1px 2px rgba(0, 0, 0, 0.3));\n",
              "      fill: #FFFFFF;\n",
              "    }\n",
              "  </style>\n",
              "\n",
              "    <script>\n",
              "      const buttonEl =\n",
              "        document.querySelector('#df-1805a474-ba66-4a2d-ade0-513d8abdba42 button.colab-df-convert');\n",
              "      buttonEl.style.display =\n",
              "        google.colab.kernel.accessAllowed ? 'block' : 'none';\n",
              "\n",
              "      async function convertToInteractive(key) {\n",
              "        const element = document.querySelector('#df-1805a474-ba66-4a2d-ade0-513d8abdba42');\n",
              "        const dataTable =\n",
              "          await google.colab.kernel.invokeFunction('convertToInteractive',\n",
              "                                                    [key], {});\n",
              "        if (!dataTable) return;\n",
              "\n",
              "        const docLinkHtml = 'Like what you see? Visit the ' +\n",
              "          '<a target=\"_blank\" href=https://colab.research.google.com/notebooks/data_table.ipynb>data table notebook</a>'\n",
              "          + ' to learn more about interactive tables.';\n",
              "        element.innerHTML = '';\n",
              "        dataTable['output_type'] = 'display_data';\n",
              "        await google.colab.output.renderOutput(dataTable, element);\n",
              "        const docLink = document.createElement('div');\n",
              "        docLink.innerHTML = docLinkHtml;\n",
              "        element.appendChild(docLink);\n",
              "      }\n",
              "    </script>\n",
              "  </div>\n",
              "\n",
              "\n",
              "<div id=\"df-b233fc4c-f497-4691-8d76-604a2026dcfb\">\n",
              "  <button class=\"colab-df-quickchart\" onclick=\"quickchart('df-b233fc4c-f497-4691-8d76-604a2026dcfb')\"\n",
              "            title=\"Suggest charts\"\n",
              "            style=\"display:none;\">\n",
              "\n",
              "<svg xmlns=\"http://www.w3.org/2000/svg\" height=\"24px\"viewBox=\"0 0 24 24\"\n",
              "     width=\"24px\">\n",
              "    <g>\n",
              "        <path d=\"M19 3H5c-1.1 0-2 .9-2 2v14c0 1.1.9 2 2 2h14c1.1 0 2-.9 2-2V5c0-1.1-.9-2-2-2zM9 17H7v-7h2v7zm4 0h-2V7h2v10zm4 0h-2v-4h2v4z\"/>\n",
              "    </g>\n",
              "</svg>\n",
              "  </button>\n",
              "\n",
              "<style>\n",
              "  .colab-df-quickchart {\n",
              "      --bg-color: #E8F0FE;\n",
              "      --fill-color: #1967D2;\n",
              "      --hover-bg-color: #E2EBFA;\n",
              "      --hover-fill-color: #174EA6;\n",
              "      --disabled-fill-color: #AAA;\n",
              "      --disabled-bg-color: #DDD;\n",
              "  }\n",
              "\n",
              "  [theme=dark] .colab-df-quickchart {\n",
              "      --bg-color: #3B4455;\n",
              "      --fill-color: #D2E3FC;\n",
              "      --hover-bg-color: #434B5C;\n",
              "      --hover-fill-color: #FFFFFF;\n",
              "      --disabled-bg-color: #3B4455;\n",
              "      --disabled-fill-color: #666;\n",
              "  }\n",
              "\n",
              "  .colab-df-quickchart {\n",
              "    background-color: var(--bg-color);\n",
              "    border: none;\n",
              "    border-radius: 50%;\n",
              "    cursor: pointer;\n",
              "    display: none;\n",
              "    fill: var(--fill-color);\n",
              "    height: 32px;\n",
              "    padding: 0;\n",
              "    width: 32px;\n",
              "  }\n",
              "\n",
              "  .colab-df-quickchart:hover {\n",
              "    background-color: var(--hover-bg-color);\n",
              "    box-shadow: 0 1px 2px rgba(60, 64, 67, 0.3), 0 1px 3px 1px rgba(60, 64, 67, 0.15);\n",
              "    fill: var(--button-hover-fill-color);\n",
              "  }\n",
              "\n",
              "  .colab-df-quickchart-complete:disabled,\n",
              "  .colab-df-quickchart-complete:disabled:hover {\n",
              "    background-color: var(--disabled-bg-color);\n",
              "    fill: var(--disabled-fill-color);\n",
              "    box-shadow: none;\n",
              "  }\n",
              "\n",
              "  .colab-df-spinner {\n",
              "    border: 2px solid var(--fill-color);\n",
              "    border-color: transparent;\n",
              "    border-bottom-color: var(--fill-color);\n",
              "    animation:\n",
              "      spin 1s steps(1) infinite;\n",
              "  }\n",
              "\n",
              "  @keyframes spin {\n",
              "    0% {\n",
              "      border-color: transparent;\n",
              "      border-bottom-color: var(--fill-color);\n",
              "      border-left-color: var(--fill-color);\n",
              "    }\n",
              "    20% {\n",
              "      border-color: transparent;\n",
              "      border-left-color: var(--fill-color);\n",
              "      border-top-color: var(--fill-color);\n",
              "    }\n",
              "    30% {\n",
              "      border-color: transparent;\n",
              "      border-left-color: var(--fill-color);\n",
              "      border-top-color: var(--fill-color);\n",
              "      border-right-color: var(--fill-color);\n",
              "    }\n",
              "    40% {\n",
              "      border-color: transparent;\n",
              "      border-right-color: var(--fill-color);\n",
              "      border-top-color: var(--fill-color);\n",
              "    }\n",
              "    60% {\n",
              "      border-color: transparent;\n",
              "      border-right-color: var(--fill-color);\n",
              "    }\n",
              "    80% {\n",
              "      border-color: transparent;\n",
              "      border-right-color: var(--fill-color);\n",
              "      border-bottom-color: var(--fill-color);\n",
              "    }\n",
              "    90% {\n",
              "      border-color: transparent;\n",
              "      border-bottom-color: var(--fill-color);\n",
              "    }\n",
              "  }\n",
              "</style>\n",
              "\n",
              "  <script>\n",
              "    async function quickchart(key) {\n",
              "      const quickchartButtonEl =\n",
              "        document.querySelector('#' + key + ' button');\n",
              "      quickchartButtonEl.disabled = true;  // To prevent multiple clicks.\n",
              "      quickchartButtonEl.classList.add('colab-df-spinner');\n",
              "      try {\n",
              "        const charts = await google.colab.kernel.invokeFunction(\n",
              "            'suggestCharts', [key], {});\n",
              "      } catch (error) {\n",
              "        console.error('Error during call to suggestCharts:', error);\n",
              "      }\n",
              "      quickchartButtonEl.classList.remove('colab-df-spinner');\n",
              "      quickchartButtonEl.classList.add('colab-df-quickchart-complete');\n",
              "    }\n",
              "    (() => {\n",
              "      let quickchartButtonEl =\n",
              "        document.querySelector('#df-b233fc4c-f497-4691-8d76-604a2026dcfb button');\n",
              "      quickchartButtonEl.style.display =\n",
              "        google.colab.kernel.accessAllowed ? 'block' : 'none';\n",
              "    })();\n",
              "  </script>\n",
              "</div>\n",
              "\n",
              "    </div>\n",
              "  </div>\n"
            ],
            "application/vnd.google.colaboratory.intrinsic+json": {
              "type": "dataframe",
              "variable_name": "df",
              "summary": "{\n  \"name\": \"df\",\n  \"rows\": 23196,\n  \"fields\": [\n    {\n      \"column\": \"title\",\n      \"properties\": {\n        \"dtype\": \"string\",\n        \"num_unique_values\": 21724,\n        \"samples\": [\n          \"Rick Santorum sworn in as Pennsylvania\\u2019s newest senator\",\n          \"Rihanna On Her Romance With Hassan Jameel \\u2014 She Yearns To Be \\u2018More Than A Booty Call\\u2019\",\n          \"Katy Perry Confirms She is \\u2018Not Single\\u2019 During \\u2018American Idol\\u2019 Finale\"\n        ],\n        \"semantic_type\": \"\",\n        \"description\": \"\"\n      }\n    },\n    {\n      \"column\": \"news_url\",\n      \"properties\": {\n        \"dtype\": \"string\",\n        \"num_unique_values\": 21658,\n        \"samples\": [\n          \"https://medium.com/@AndreAguirre25111NTZ/teen-moms-amber-portwood-reacts-to-latest-cheating-allegations-surrounding-matt-baier-550f37fe8c0\",\n          \"https://www.dailymail.co.uk/tvshowbiz/article-5515133/Eddie-Redmayne-wife-Hannah-welcome-second-child.html\",\n          \"www.intouchweekly.com/posts/sister-wives-kody-brown-robyn-153443\"\n        ],\n        \"semantic_type\": \"\",\n        \"description\": \"\"\n      }\n    },\n    {\n      \"column\": \"source_domain\",\n      \"properties\": {\n        \"dtype\": \"category\",\n        \"num_unique_values\": 2441,\n        \"samples\": [\n          \"www.rawstory.com\",\n          \"www.newscabal.co.uk\",\n          \"cmtcody.iheart.com\"\n        ],\n        \"semantic_type\": \"\",\n        \"description\": \"\"\n      }\n    },\n    {\n      \"column\": \"tweet_num\",\n      \"properties\": {\n        \"dtype\": \"number\",\n        \"std\": 488,\n        \"min\": 0,\n        \"max\": 29060,\n        \"num_unique_values\": 825,\n        \"samples\": [\n          4601,\n          407,\n          67\n        ],\n        \"semantic_type\": \"\",\n        \"description\": \"\"\n      }\n    },\n    {\n      \"column\": \"real\",\n      \"properties\": {\n        \"dtype\": \"number\",\n        \"std\": 0,\n        \"min\": 0,\n        \"max\": 1,\n        \"num_unique_values\": 2,\n        \"samples\": [\n          0,\n          1\n        ],\n        \"semantic_type\": \"\",\n        \"description\": \"\"\n      }\n    }\n  ]\n}"
            }
          },
          "metadata": {},
          "execution_count": 4
        }
      ]
    },
    {
      "cell_type": "code",
      "source": [
        "df.drop(columns=[\"news_url\",\"source_domain\"], inplace=True)"
      ],
      "metadata": {
        "id": "tXpBKRK90b-3"
      },
      "execution_count": 5,
      "outputs": []
    },
    {
      "cell_type": "code",
      "source": [
        "df['title']\n"
      ],
      "metadata": {
        "colab": {
          "base_uri": "https://localhost:8080/",
          "height": 458
        },
        "id": "Wc08kRtH1s6s",
        "outputId": "f35789b9-f84f-4bbf-9110-e070426c7080"
      },
      "execution_count": 7,
      "outputs": [
        {
          "output_type": "execute_result",
          "data": {
            "text/plain": [
              "0        Kandi Burruss Explodes Over Rape Accusation on...\n",
              "1        People's Choice Awards 2018: The best red carp...\n",
              "2        Sophia Bush Sends Sweet Birthday Message to 'O...\n",
              "3        Colombian singer Maluma sparks rumours of inap...\n",
              "4        Gossip Girl 10 Years Later: How Upper East Sid...\n",
              "                               ...                        \n",
              "23191    Pippa Middleton wedding: In case you missed it...\n",
              "23192    Zayn Malik & Gigi Hadid’s Shocking Split: Why ...\n",
              "23193    Jessica Chastain Recalls the Moment Her Mother...\n",
              "23194    Tristan Thompson Feels \"Dumped\" After Khloé Ka...\n",
              "23195    Kelly Clarkson Performs a Medley of Kendrick L...\n",
              "Name: title, Length: 23196, dtype: object"
            ],
            "text/html": [
              "<div>\n",
              "<style scoped>\n",
              "    .dataframe tbody tr th:only-of-type {\n",
              "        vertical-align: middle;\n",
              "    }\n",
              "\n",
              "    .dataframe tbody tr th {\n",
              "        vertical-align: top;\n",
              "    }\n",
              "\n",
              "    .dataframe thead th {\n",
              "        text-align: right;\n",
              "    }\n",
              "</style>\n",
              "<table border=\"1\" class=\"dataframe\">\n",
              "  <thead>\n",
              "    <tr style=\"text-align: right;\">\n",
              "      <th></th>\n",
              "      <th>title</th>\n",
              "    </tr>\n",
              "  </thead>\n",
              "  <tbody>\n",
              "    <tr>\n",
              "      <th>0</th>\n",
              "      <td>Kandi Burruss Explodes Over Rape Accusation on...</td>\n",
              "    </tr>\n",
              "    <tr>\n",
              "      <th>1</th>\n",
              "      <td>People's Choice Awards 2018: The best red carp...</td>\n",
              "    </tr>\n",
              "    <tr>\n",
              "      <th>2</th>\n",
              "      <td>Sophia Bush Sends Sweet Birthday Message to 'O...</td>\n",
              "    </tr>\n",
              "    <tr>\n",
              "      <th>3</th>\n",
              "      <td>Colombian singer Maluma sparks rumours of inap...</td>\n",
              "    </tr>\n",
              "    <tr>\n",
              "      <th>4</th>\n",
              "      <td>Gossip Girl 10 Years Later: How Upper East Sid...</td>\n",
              "    </tr>\n",
              "    <tr>\n",
              "      <th>...</th>\n",
              "      <td>...</td>\n",
              "    </tr>\n",
              "    <tr>\n",
              "      <th>23191</th>\n",
              "      <td>Pippa Middleton wedding: In case you missed it...</td>\n",
              "    </tr>\n",
              "    <tr>\n",
              "      <th>23192</th>\n",
              "      <td>Zayn Malik &amp; Gigi Hadid’s Shocking Split: Why ...</td>\n",
              "    </tr>\n",
              "    <tr>\n",
              "      <th>23193</th>\n",
              "      <td>Jessica Chastain Recalls the Moment Her Mother...</td>\n",
              "    </tr>\n",
              "    <tr>\n",
              "      <th>23194</th>\n",
              "      <td>Tristan Thompson Feels \"Dumped\" After Khloé Ka...</td>\n",
              "    </tr>\n",
              "    <tr>\n",
              "      <th>23195</th>\n",
              "      <td>Kelly Clarkson Performs a Medley of Kendrick L...</td>\n",
              "    </tr>\n",
              "  </tbody>\n",
              "</table>\n",
              "<p>23196 rows × 1 columns</p>\n",
              "</div><br><label><b>dtype:</b> object</label>"
            ]
          },
          "metadata": {},
          "execution_count": 7
        }
      ]
    },
    {
      "cell_type": "code",
      "source": [
        "import re"
      ],
      "metadata": {
        "id": "mBMRTi912fS5"
      },
      "execution_count": 8,
      "outputs": []
    },
    {
      "cell_type": "code",
      "source": [
        "def wordopt(text):\n",
        "\n",
        "  text=text.lower()\n",
        "\n",
        "  text=re.sub(r'\\[.*?\\]','',text)\n",
        "  text=re.sub(r\"\\\\W\",\" \",text)\n",
        "  text=re.sub(r'https?://\\S+|www\\.\\S+','',text)\n",
        "  text=re.sub(r'<.*?>+','',text)\n",
        "  text=re.sub(r'[^\\w\\s]','',text)\n",
        "  text=re.sub(r'\\n','',text)\n",
        "  text=re.sub(r'\\d','',text)\n",
        "  text=re.sub(r'\\w*\\d\\w*','',text)\n",
        "  return text\n",
        "\n"
      ],
      "metadata": {
        "id": "xQ6Xv7aK1uAr"
      },
      "execution_count": 17,
      "outputs": []
    },
    {
      "cell_type": "code",
      "source": [
        "df['title']=df['title'].apply(wordopt)"
      ],
      "metadata": {
        "id": "fUIVJ6Q34Jin"
      },
      "execution_count": 18,
      "outputs": []
    },
    {
      "cell_type": "code",
      "source": [
        "df['title'][1]"
      ],
      "metadata": {
        "colab": {
          "base_uri": "https://localhost:8080/",
          "height": 35
        },
        "id": "1B0iLveL5Ji6",
        "outputId": "563726de-5094-4caa-dd88-28b79c18df33"
      },
      "execution_count": 20,
      "outputs": [
        {
          "output_type": "execute_result",
          "data": {
            "text/plain": [
              "'peoples choice awards  the best red carpet looks'"
            ],
            "application/vnd.google.colaboratory.intrinsic+json": {
              "type": "string"
            }
          },
          "metadata": {},
          "execution_count": 20
        }
      ]
    },
    {
      "cell_type": "code",
      "source": [
        "from sklearn.model_selection import train_test_split\n",
        "from sklearn.feature_extraction.text import TfidfVectorizer\n",
        "from sklearn.linear_model import LogisticRegression\n",
        "from sklearn.metrics import accuracy_score ,classification_report\n",
        "from sklearn.svm import SVC\n",
        "from sklearn.naive_bayes import MultinomialNB\n",
        "from sklearn.ensemble import RandomForestClassifier, GradientBoostingClassifier\n",
        "\n"
      ],
      "metadata": {
        "id": "NEL4_gUj5kF0"
      },
      "execution_count": 62,
      "outputs": []
    },
    {
      "cell_type": "code",
      "source": [
        "X_train, X_test, y_train, y_test = train_test_split(df['title'], df['real'], test_size=0.2, random_state=42)\n",
        "\n",
        "# Use TF-IDF Vectorizer to convert text to numerical form\n",
        "vectorizer = TfidfVectorizer()\n",
        "X_train_tfidf = vectorizer.fit_transform(X_train)\n",
        "X_test_tfidf = vectorizer.transform(X_test)"
      ],
      "metadata": {
        "id": "RwI2kR_06eyL"
      },
      "execution_count": 22,
      "outputs": []
    },
    {
      "cell_type": "code",
      "source": [],
      "metadata": {
        "id": "-65JRRrF7G88"
      },
      "execution_count": null,
      "outputs": []
    },
    {
      "cell_type": "code",
      "source": [
        "#LogisticRegression:\n",
        "LR_model = LogisticRegression()\n",
        "# SVM:\n",
        "svm_model = SVC(kernel='linear')\n",
        "# Naive Bayes:\n",
        "nb_model = MultinomialNB()\n",
        "# Random Forest:\n",
        "rf_model = RandomForestClassifier(n_estimators=300)\n",
        "# Gradient Boosting:\n",
        "gb_model = GradientBoostingClassifier(n_estimators=300, learning_rate=0.01)"
      ],
      "metadata": {
        "id": "FXO-2Bta7Lu-"
      },
      "execution_count": 77,
      "outputs": []
    },
    {
      "cell_type": "code",
      "source": [
        "models = {\n",
        "    'LogisticRegression': LR_model,\n",
        "    'SVM': svm_model,\n",
        "    'Naive Bayes': nb_model,\n",
        "    'Random Forest': rf_model,\n",
        "    'Gradient Boosting': gb_model\n",
        "}\n",
        "\n"
      ],
      "metadata": {
        "id": "gvl_Wc8l7lMo"
      },
      "execution_count": 83,
      "outputs": []
    },
    {
      "cell_type": "code",
      "source": [
        "for name, model in models.items():\n",
        "    # Train the model\n",
        "    model.fit(X_train_tfidf, y_train)\n",
        "\n",
        "    # Predict on the test set\n",
        "    y_pred = model.predict(X_test_tfidf)\n",
        "\n",
        "    # Calculate and print accuracy\n",
        "    accuracy = accuracy_score(y_test, y_pred)\n",
        "    print(f\"Model: {name}, Accuracy: {accuracy}\")\n",
        "\n",
        "    # Print detailed classification report (optional)\n",
        "    print(f\"Classification Report for {name}:\\n\", classification_report(y_test, y_pred))"
      ],
      "metadata": {
        "colab": {
          "base_uri": "https://localhost:8080/"
        },
        "id": "hG4evm6MAUeG",
        "outputId": "f5248e8d-aa62-4ac2-a288-2afc839b1347"
      },
      "execution_count": 84,
      "outputs": [
        {
          "output_type": "stream",
          "name": "stdout",
          "text": [
            "Model: LogisticRegression, Accuracy: 0.8310344827586207\n",
            "Classification Report for LogisticRegression:\n",
            "               precision    recall  f1-score   support\n",
            "\n",
            "           0       0.77      0.43      0.56      1131\n",
            "           1       0.84      0.96      0.90      3509\n",
            "\n",
            "    accuracy                           0.83      4640\n",
            "   macro avg       0.81      0.70      0.73      4640\n",
            "weighted avg       0.82      0.83      0.81      4640\n",
            "\n",
            "Model: SVM, Accuracy: 0.8394396551724138\n",
            "Classification Report for SVM:\n",
            "               precision    recall  f1-score   support\n",
            "\n",
            "           0       0.75      0.51      0.61      1131\n",
            "           1       0.86      0.95      0.90      3509\n",
            "\n",
            "    accuracy                           0.84      4640\n",
            "   macro avg       0.80      0.73      0.75      4640\n",
            "weighted avg       0.83      0.84      0.83      4640\n",
            "\n",
            "Model: Naive Bayes, Accuracy: 0.8092672413793104\n",
            "Classification Report for Naive Bayes:\n",
            "               precision    recall  f1-score   support\n",
            "\n",
            "           0       0.85      0.27      0.40      1131\n",
            "           1       0.81      0.98      0.89      3509\n",
            "\n",
            "    accuracy                           0.81      4640\n",
            "   macro avg       0.83      0.62      0.65      4640\n",
            "weighted avg       0.82      0.81      0.77      4640\n",
            "\n",
            "Model: Random Forest, Accuracy: 0.8293103448275863\n",
            "Classification Report for Random Forest:\n",
            "               precision    recall  f1-score   support\n",
            "\n",
            "           0       0.74      0.46      0.57      1131\n",
            "           1       0.85      0.95      0.89      3509\n",
            "\n",
            "    accuracy                           0.83      4640\n",
            "   macro avg       0.79      0.71      0.73      4640\n",
            "weighted avg       0.82      0.83      0.81      4640\n",
            "\n",
            "Model: Gradient Boosting, Accuracy: 0.7887931034482759\n",
            "Classification Report for Gradient Boosting:\n",
            "               precision    recall  f1-score   support\n",
            "\n",
            "           0       0.83      0.17      0.28      1131\n",
            "           1       0.79      0.99      0.88      3509\n",
            "\n",
            "    accuracy                           0.79      4640\n",
            "   macro avg       0.81      0.58      0.58      4640\n",
            "weighted avg       0.80      0.79      0.73      4640\n",
            "\n"
          ]
        }
      ]
    },
    {
      "cell_type": "code",
      "source": [],
      "metadata": {
        "id": "iDYB9ScnPDc8"
      },
      "execution_count": null,
      "outputs": []
    }
  ]
}